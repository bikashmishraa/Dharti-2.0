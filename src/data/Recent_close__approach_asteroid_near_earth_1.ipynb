{
  "cells": [
    {
      "cell_type": "code",
      "execution_count": null,
      "metadata": {
        "id": "Eipp0h2Cm8eU"
      },
      "outputs": [
        {
          "ename": "",
          "evalue": "",
          "output_type": "error",
          "traceback": [
            "\u001b[1;31mRunning cells with 'Python 3.12.3' requires the ipykernel package.\n",
            "\u001b[1;31mRun the following command to install 'ipykernel' into the Python environment. \n",
            "\u001b[1;31mCommand: '/bin/python3 -m pip install ipykernel -U --user --force-reinstall'"
          ]
        }
      ],
      "source": [
        "import numpy as np\n",
        "import pandas as pd\n",
        "import matplotlib.pyplot as plt\n",
        "import seaborn as sns\n",
        "import plotly.express as px\n",
        "df=pd.read_csv(\"https://raw.githubusercontent.com/bikashmishraa/Dharti-2.0/52cb580cdd07b665e0fb816a5a223f6396856bb8/src/assets/recentClApp.csv\")\n",
        "\n",
        "# Sort the DataFrame by 'Close approach date in UTC'\n",
        "df_sorted = df.sort_values(by='Close approach date in UTC')\n",
        "\n",
        "fig = px.line(df_sorted, x=\"Object designation\", y=[\"Miss distance in km\"],\n",
        "              hover_data=['Close approach date in UTC','Relative\\nvelocity in km/s','Diameter in m'], # Add hover data for date\n",
        "              title=\"Line Plot of Object vs Miss Distance and Relative Velocity\")\n",
        "\n",
        "fig.update_layout(xaxis_title=\"Object Designation\", yaxis_title=\"Values\")\n",
        "fig.update_xaxes(tickangle=45)\n",
        "\n",
        "fig.show()\n"
      ]
    },
    {
      "cell_type": "code",
      "execution_count": null,
      "metadata": {
        "colab": {
          "base_uri": "https://localhost:8080/",
          "height": 327
        },
        "id": "VZHjE-xynT40",
        "outputId": "1bab7293-d6bd-4f25-81d7-f0447b17ac46"
      },
      "outputs": [],
      "source": []
    },
    {
      "cell_type": "code",
      "execution_count": null,
      "metadata": {
        "colab": {
          "base_uri": "https://localhost:8080/",
          "height": 542
        },
        "id": "2rWLU2Aq7mQ4",
        "outputId": "04e819ca-6dc7-411f-d5d8-fd5385bdeaa7"
      },
      "outputs": [],
      "source": []
    },
    {
      "cell_type": "code",
      "execution_count": null,
      "metadata": {
        "colab": {
          "base_uri": "https://localhost:8080/",
          "height": 542
        },
        "id": "rp3j3wMSn1ql",
        "outputId": "5dacfa72-c2c6-4cd6-cc8d-0801ad260b63"
      },
      "outputs": [],
      "source": [
        "# prompt: i need interactive scatter plot\n",
        "\n",
        "import plotly.express as px\n",
        "\n",
        "fig = px.scatter(df, x=\"Miss distance in km\", y=\"Relative\\nvelocity in km/s\",\n",
        "                 hover_data=['Object designation','Close approach date in UTC','Diameter in m'],\n",
        "                 title=\"Interactive Scatter Plot of Miss Distance vs Relative Velocity\")\n",
        "\n",
        "fig.update_layout(xaxis_title=\"Miss Distance in km\", yaxis_title=\"Relative Velocity in km/s\")\n",
        "\n",
        "fig.show()\n"
      ]
    },
    {
      "cell_type": "code",
      "execution_count": null,
      "metadata": {},
      "outputs": [],
      "source": []
    }
  ],
  "metadata": {
    "colab": {
      "provenance": []
    },
    "kernelspec": {
      "display_name": "Python 3",
      "name": "python3"
    },
    "language_info": {
      "name": "python",
      "version": "3.12.3"
    }
  },
  "nbformat": 4,
  "nbformat_minor": 0
}
